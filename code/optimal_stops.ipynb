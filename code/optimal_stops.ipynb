{
 "cells": [
  {
   "cell_type": "code",
   "execution_count": 30,
   "id": "4974f10e-3408-4f91-81b4-259f9e2fb4b8",
   "metadata": {},
   "outputs": [],
   "source": [
    "import numpy as np\n",
    "import scipy\n",
    "import random"
   ]
  },
  {
   "cell_type": "code",
   "execution_count": 31,
   "id": "476f0393-2051-4c01-9ba1-4cd1f29b5771",
   "metadata": {},
   "outputs": [],
   "source": [
    "def gen_bern(probability):\n",
    "    \"\"\"\n",
    "    Generate a random value of 1 or 0 based on the given probability.\n",
    "    \n",
    "    Args:\n",
    "        probability (float): The probability of generating 1.\n",
    "        \n",
    "    Returns:\n",
    "        int: Either 1 or 0, with the specified probability.\n",
    "    \"\"\"\n",
    "    if probability < 0 or probability > 1:\n",
    "        raise ValueError(\"Probability must be between 0 and 1.\")\n",
    "    \n",
    "    return random.randint(0, 1) if random.random() < probability else 0"
   ]
  },
  {
   "cell_type": "code",
   "execution_count": 127,
   "id": "b676ec4f-f9ce-44ea-b85d-99f634b93d82",
   "metadata": {},
   "outputs": [],
   "source": [
    "# Depletion functions for each patch\n",
    "def depletion_func(a, b, c, d, t):\n",
    "    return a * (b ** (-c*t)+d)\n",
    "    \n",
    "def calc_total_reward_rate(num_patches, travel_time, max_time, reward_value, a, b, c, d):\n",
    "    \"\"\"\n",
    "    Calculate the total reward rate for a discrete-time foraging system.\n",
    "\n",
    "    Args:\n",
    "        num_patches (int): Number of patches in the environment.\n",
    "        travel_time (int): Time required to travel between patches.\n",
    "        max_time (list): Maximum time to forage in a patch.\n",
    "        reward_value (float): Constant reward value. #leaving this as a variable in case we want dynamic\n",
    "\n",
    "    Returns:\n",
    "        float: Total reward rate for the entire environment.\n",
    "    \"\"\"\n",
    "    total_reward = 0\n",
    "    total_time = 0\n",
    "\n",
    "    for patch_id in range(num_patches): #could change this to a list of patches in order\n",
    "        patch_reward = 0\n",
    "        patch_time = max_time[patch_id]\n",
    "\n",
    "        for t in range(patch_time):\n",
    "            prob_reward = depletion_func(a[patch_id],b[patch_id],c[patch_id],d[patch_id],t)\n",
    "            instantaneous_rate =  prob_reward * reward_value # probabilistic version: gen_bern(prob_reward) * reward_value\n",
    "            patch_reward += instantaneous_rate\n",
    "\n",
    "        total_reward += patch_reward\n",
    "        total_time += max_time[patch_id] + travel_time\n",
    "\n",
    "    total_reward_rate = total_reward / total_time\n",
    "    return total_reward_rate"
   ]
  },
  {
   "cell_type": "code",
   "execution_count": 161,
   "id": "18ccd15c-22ec-4916-a88a-c954c8e62081",
   "metadata": {},
   "outputs": [
    {
     "name": "stdout",
     "output_type": "stream",
     "text": [
      "Total reward rate: 1.130239956448668\n"
     ]
    }
   ],
   "source": [
    "# Example usage\n",
    "num_patches = 2\n",
    "travel_time = 2\n",
    "max_time = [1,9]\n",
    "reward_value = 5\n",
    "\n",
    "# Initial probabilities of reward in each patch\n",
    "a = [.9, .4]\n",
    "b = [2.76, 2.76]\n",
    "c = [.1278, .1278]\n",
    "d = [0, 0]\n",
    "\n",
    "total_reward_rate = calc_total_reward_rate(num_patches, travel_time, max_time, reward_value, a, b, c, d)\n",
    "print(f\"Total reward rate: {total_reward_rate}\")"
   ]
  },
  {
   "cell_type": "code",
   "execution_count": 162,
   "id": "6836f037-df78-43cb-876d-64e1a6ca9c1e",
   "metadata": {},
   "outputs": [],
   "source": [
    "best_time = [1,1] #100 steps\n",
    "# Example usage\n",
    "num_patches = 2\n",
    "travel_time = 1\n",
    "max_time = [1,9]\n",
    "reward_value = 5\n",
    "\n",
    "# Initial probabilities of reward in each patch\n",
    "grid = np.zeros((20,20))\n",
    "for x in range(20):\n",
    "    for y in range (20):\n",
    "        total_reward_rate = calc_total_reward_rate(num_patches, travel_time, [x,y], reward_value, a, b, c, d)\n",
    "        grid[x,y] = total_reward_rate"
   ]
  },
  {
   "cell_type": "code",
   "execution_count": 163,
   "id": "61e9d518-510b-45cb-8fc2-4fc69e15824a",
   "metadata": {},
   "outputs": [
    {
     "data": {
      "text/plain": [
       "Text(0, 0.5, 'stay in patch 2')"
      ]
     },
     "execution_count": 163,
     "metadata": {},
     "output_type": "execute_result"
    },
    {
     "data": {
      "image/png": "[encoded data removed]",
      "text/plain": [
       "<Figure size 640x480 with 1 Axes>"
      ]
     },
     "metadata": {},
     "output_type": "display_data"
    }
   ],
   "source": [
    "plt.imshow(grid)\n",
    "plt.xlabel('stay in patch 1')\n",
    "plt.ylabel('stay in patch 2')"
   ]
  },
  {
   "cell_type": "code",
   "execution_count": 164,
   "id": "1853c89f-9bda-4d3e-b31f-436407f9852f",
   "metadata": {},
   "outputs": [
    {
     "name": "stdout",
     "output_type": "stream",
     "text": [
      "max reward rate: 2.521579155937771\n"
     ]
    }
   ],
   "source": [
    "# Find the indices of the maximum value(s) in the grid\n",
    "best_time = np.unravel_index(grid.argmax(), grid.shape)\n",
    "\n",
    "# Print the maximum value(s) and their coordinates\n",
    "max_values = grid[best_time]\n",
    "print('max reward rate: ' +str(max_values))"
   ]
  },
  {
   "cell_type": "code",
   "execution_count": 165,
   "id": "ea51b433-0dad-4bd1-848a-c9a37d766036",
   "metadata": {},
   "outputs": [
    {
     "data": {
      "text/plain": [
       "(5, 0)"
      ]
     },
     "execution_count": 165,
     "metadata": {},
     "output_type": "execute_result"
    }
   ],
   "source": [
    "best_time"
   ]
  },
  {
   "cell_type": "code",
   "execution_count": 166,
   "id": "6dd4248f-08b9-4ca6-9898-415ec43a6f83",
   "metadata": {},
   "outputs": [
    {
     "name": "stdout",
     "output_type": "stream",
     "text": [
      "[0.9, 0.7904862658184875, 0.6942983738307293, 0.609814809881446, 0.5356113687822168, 0.4704371453762037, 0.4131934470563824, 0.36291527224918735, 0.3187550426319553, 0.27996831484549684, 0.2459012308330126, 0.21597949524595342, 0.18969869410037274, 0.16661579147783018, 0.14634166092411305, 0.12853452564175263, 0.11289419689255517, 0.09915701348241447, 0.08709139701936361, 0.07649394801639119]\n",
      "[0.4, 0.3513272292526611, 0.30857705503587973, 0.2710288043917538, 0.23804949723654079, 0.2090831757227572, 0.18364153202505884, 0.1612956765551944, 0.14166890783642458, 0.12443036215355414, 0.10928943592578338, 0.09599088677597929, 0.08431053071127678, 0.07405146287903563, 0.06504073818849469, 0.057126455840778946, 0.05017519861891341, 0.044069783769961984, 0.038707287564161606, 0.033997310229507194]\n"
     ]
    },
    {
     "data": {
      "image/png": "[encoded data removed]",
      "text/plain": [
       "<Figure size 300x300 with 1 Axes>"
      ]
     },
     "metadata": {},
     "output_type": "display_data"
    }
   ],
   "source": [
    "import matplotlib.pyplot as plt\n",
    "\n",
    "max_time = 20\n",
    "\n",
    "# Create a range of time steps\n",
    "time_steps = np.arange(max_time)\n",
    "\n",
    "# Plot the depletion rate over time\n",
    "plt.figure(figsize=(3, 3))\n",
    "\n",
    "for patch_id in range(num_patches): #could change this to a list of patches in order\n",
    "    \n",
    "    # Compute the depletion rate for each time step\n",
    "    p_R = [depletion_func(a[patch_id],b[patch_id],c[patch_id],d[patch_id],t) for t in time_steps]\n",
    "    print(p_R)\n",
    "\n",
    "    plt.plot(time_steps+1, p_R,label = str(p_R[best_time[patch_id]-1]))\n",
    "    plt.plot(best_time[patch_id], p_R[best_time[patch_id]-1],'ok')\n",
    "\n",
    "plt.xlabel('Time Step')\n",
    "plt.ylabel('P(R)')\n",
    "plt.legend()\n",
    "plt.show()"
   ]
  },
  {
   "cell_type": "code",
   "execution_count": null,
   "id": "31e9edf6-ca4f-4503-955c-b95ccb517a29",
   "metadata": {},
   "outputs": [],
   "source": []
  }
 ],
 "metadata": {
  "kernelspec": {
   "display_name": "Python 3 (ipykernel)",
   "language": "python",
   "name": "python3"
  },
  "language_info": {
   "codemirror_mode": {
    "name": "ipython",
    "version": 3
   },
   "file_extension": ".py",
   "mimetype": "text/x-python",
   "name": "python",
   "nbconvert_exporter": "python",
   "pygments_lexer": "ipython3",
   "version": "3.11.9"
  }
 },
 "nbformat": 4,
 "nbformat_minor": 5
}
