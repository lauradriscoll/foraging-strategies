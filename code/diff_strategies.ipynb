{
 "cells": [
  {
   "cell_type": "code",
   "execution_count": 1,
   "id": "8871e2b1-b791-4e52-9d77-ca5df1f5881a",
   "metadata": {},
   "outputs": [],
   "source": [
    "import numpy as np\n",
    "import pandas as pd\n",
    "import scipy\n",
    "import random\n",
    "import matplotlib.pyplot as plt\n",
    "import matplotlib as mpl\n",
    "from mpl_toolkits.mplot3d import Axes3D\n",
    "import os\n",
    "\n",
    "from tools import PatchForager"
   ]
  },
  {
   "cell_type": "code",
   "execution_count": 2,
   "id": "c38743dd-f386-43d3-ae7a-2eb0d5036dee",
   "metadata": {},
   "outputs": [
    {
     "name": "stdout",
     "output_type": "stream",
     "text": [
      "Optimal stops: 7, 4\n",
      "Max reward rate: 1.8853650128723254\n"
     ]
    }
   ],
   "source": [
    "# Example usage\n",
    "type_patches = 2\n",
    "num_patches = 400\n",
    "\n",
    "#Three alternative ways to generate a list of patches\n",
    "patch_list = list(range(type_patches)) #equal distribution of patches\n",
    "# patch_list = [random.randint(0, type_patches-1) for _ in range(num_patches)] #randomly generated list of patched\n",
    "# patch_list = data # import data from session {To Be Implemented..}\n",
    "\n",
    "# Initial probabilities of reward in each patch\n",
    "travel_time = 3\n",
    "reward_value = [5, 5]\n",
    "a = [0.9, 0.6]\n",
    "b = [2.76, 2.76]\n",
    "c = [0.1278, 0.1278]\n",
    "d = [0, 0]\n",
    "\n",
    "forager = PatchForager(travel_time, reward_value, a, b, c, d, prob=False)\n",
    "mvt_optimal = forager.calculate_optimal_stops(patch_list)\n",
    "\n",
    "print(f\"Optimal stops: {mvt_optimal['optimal_stops'][0]}, {mvt_optimal['optimal_stops'][1]}\")\n",
    "print(f\"Max reward rate: {mvt_optimal['max_reward_rate']}\")"
   ]
  },
  {
   "cell_type": "code",
   "execution_count": 3,
   "id": "ae0c2d0d-e1a9-40a1-8404-0bdd4b9de67e",
   "metadata": {},
   "outputs": [
    {
     "name": "stderr",
     "output_type": "stream",
     "text": [
      "/Users/laura.driscoll/Documents/code/foraging-strategies/code/tools.py:237: UserWarning: No artists with labels found to put in legend.  Note that artists whose label start with an underscore are ignored when legend() is called with no argument.\n",
      "  plt.legend(loc='center right', bbox_to_anchor=(1, 1.15))\n"
     ]
    },
    {
     "data": {
      "image/png": "[encoded data removed]",
      "text/plain": [
       "<Figure size 200x200 with 1 Axes>"
      ]
     },
     "metadata": {},
     "output_type": "display_data"
    }
   ],
   "source": [
    "forager.make_pr_plot(patch_list, mvt_optimal['optimal_stops'])"
   ]
  },
  {
   "cell_type": "code",
   "execution_count": null,
   "id": "1ff8d278-a05b-410c-9d6b-1eca828094f8",
   "metadata": {
    "scrolled": true
   },
   "outputs": [],
   "source": [
    "# Create a directory for the simulation results\n",
    "import h5py\n",
    "os.makedirs('data', exist_ok=True)\n",
    "\n",
    "type_patches = 2\n",
    "num_patches = 200\n",
    "patch_list = [random.randint(0, type_patches-1) for _ in range(num_patches)] #randomly generated list of patched\n",
    "\n",
    "forager = PatchForager(travel_time, reward_value, a, b, c, d, prob=True)\n",
    "\n",
    "# Define the strategies and their parameters\n",
    "strategy_struct = {\n",
    "    'rewards': {'strategy': 'rewards', 'params': {'target_rewards': mvt_optimal['optimal_stops']}},\n",
    "    'stops': {'strategy': 'stops', 'params': {'target_stops': [12,8]}},\n",
    "    'rate': {'strategy': 'rate', 'params': {'target_reward_rate': 2.55}},#mvt_optimal['max_reward_rate']}},\n",
    "    'failures': {'strategy': 'failures', 'params': {'max_failures': 2}},\n",
    "    'consec_failures': {'strategy': 'consec_failures', 'params': {'consec_failures': 2}}\n",
    "}\n",
    "\n",
    "# Create an HDF5 file\n",
    "with h5py.File('data/data.h5', 'w') as hf:\n",
    "    for i in range(20):\n",
    "        # Create a group for this simulation\n",
    "        sim_group = hf.create_group(f'simulation_{i}')\n",
    "        \n",
    "        # Run the simulation for each strategy\n",
    "        for strategy_name, strategy_info in strategy_struct.items():\n",
    "            data, _ = forager.run_simulation(strategy_info['strategy'], patch_list, **strategy_info['params'])\n",
    "            \n",
    "            # Save results\n",
    "            dataset = sim_group.create_dataset(strategy_name, data=data.to_numpy())\n",
    "            # Save column names as attributes\n",
    "            dataset.attrs['columns'] = data.columns.tolist()"
   ]
  },
  {
   "cell_type": "code",
   "execution_count": null,
   "id": "69b53a50-a3fc-4415-b1ef-d393cf069d09",
   "metadata": {},
   "outputs": [],
   "source": [
    "print(mvt_optimal['max_reward_rate'],mvt_optimal['optimal_stops'])"
   ]
  },
  {
   "cell_type": "code",
   "execution_count": null,
   "id": "9f625e0c-185d-4df9-b035-8eb34ab71172",
   "metadata": {},
   "outputs": [],
   "source": [
    "plt.figure(figsize=(2.5, 2.5))\n",
    "ax = plt.subplot(111)\n",
    "plt.imshow(mvt_optimal['reward_rate_grid'], vmin=0, vmax=1.7275)\n",
    "plt.xlabel('Rewards in Patch 1')\n",
    "plt.ylabel('Rewards in Patch 0')\n",
    "plt.title('Time between patch: '+str(travel_time)+'s \\n  \\n Reward Rate for # \\n in Each Patch')\n",
    "ax.spines[['right', 'top']].set_visible(False)\n",
    "cbar = plt.colorbar()\n",
    "\n",
    "\n",
    "plt.savefig(f'figs/reward_rate_grid'+str(travel_time)+'.png', bbox_inches='tight', dpi=300)"
   ]
  },
  {
   "cell_type": "code",
   "execution_count": null,
   "id": "a9b9c428-1f5f-4ac1-80a8-697b3cb94542",
   "metadata": {},
   "outputs": [],
   "source": [
    "# Function to read data from HDF5 file\n",
    "def read_h5_data(file_path, simulation_number, strategy):\n",
    "    with h5py.File(file_path, 'r') as hf:\n",
    "        dataset = hf[f'simulation_{simulation_number}/{strategy}']\n",
    "        return pd.DataFrame(dataset[:], columns=dataset.attrs['columns'])\n",
    "\n",
    "# Set up the plotting style\n",
    "plt.style.use('ggplot')\n",
    "\n",
    "# File path\n",
    "h5_file_path = 'data/data.h5'\n",
    "\n",
    "# Get a list of distinct colors from matplotlib colormap\n",
    "colors = plt.get_cmap('tab10')  # You can change 'tab10' to other colormaps if needed\n",
    "\n",
    "# Create the color_set dictionary\n",
    "color_set = {strategy: colors(i) for i, strategy in enumerate(strategy_struct.keys())}"
   ]
  },
  {
   "cell_type": "code",
   "execution_count": null,
   "id": "be413e7f-5b49-4ad0-8b33-f356c6d175b5",
   "metadata": {},
   "outputs": [],
   "source": [
    "plt.figure(figsize=(4, 4))\n",
    "for sim_num in range(20):  # Assuming 20 simulations\n",
    "\n",
    "    for strategy in strategy_struct.keys():\n",
    "        # Read data for this simulation and strategy\n",
    "        data = read_h5_data(h5_file_path, sim_num, strategy)\n",
    "        \n",
    "        # Plot cumulative reward over time\n",
    "        plt.plot(data['time'], data['reward'].cumsum(), label=strategy.replace('_', ' ').title(),alpha = .3,\n",
    "                 lw = 3,color = color_set[strategy])\n",
    "\n",
    "    plt.xlabel('Time')\n",
    "    plt.ylabel('Cumulative Reward')\n",
    "    plt.title(f'Cumulative Reward over Time \\n for Different Strategies')\n",
    "    \n",
    "    if sim_num==0:\n",
    "        plt.legend()\n",
    "        \n",
    "    plt.grid(True)\n",
    "    plt.tight_layout()\n",
    "    \n",
    "    # Save the plot\n",
    "plt.savefig(f'figs/cumulative_reward_all.png', bbox_inches='tight', dpi=300)\n",
    "# plt.close()  # Close the figure to free up memory"
   ]
  },
  {
   "cell_type": "code",
   "execution_count": null,
   "id": "ded0e988-75f3-4d5a-8ee9-01f5ed989c7b",
   "metadata": {},
   "outputs": [],
   "source": [
    "# Number of simulations\n",
    "num_simulations = 20\n",
    "\n",
    "# Plot: Time Spent in Each Patch\n",
    "plt.figure(figsize=(3, 4))\n",
    "\n",
    "for sim_num in range(num_simulations):\n",
    "    for strategy in strategy_struct.keys():\n",
    "        # Read data for this simulation and strategy\n",
    "        data = read_h5_data(h5_file_path, sim_num, strategy)\n",
    "        \n",
    "        # Calculate time spent in each patch\n",
    "        patch_times = data[data['patch_id'] != -1].groupby('patch_id')['time_in_patch'].max()\n",
    "        \n",
    "        # Plot time spent in each patch\n",
    "        plt.plot(patch_times.index, patch_times.values, label=strategy if sim_num == 0 else \"\", \n",
    "                 marker='o', alpha=0.3, color=color_set[strategy])\n",
    "\n",
    "plt.xlabel('Patch ID')\n",
    "plt.xlim([-.9,1.9])\n",
    "plt.ylabel('Time Spent in Patch')\n",
    "plt.title('Time Spent in Each Patch \\n for Different Strategies')\n",
    "if sim_num == 0:\n",
    "    plt.legend()\n",
    "plt.grid(True)\n",
    "plt.tight_layout()\n",
    "\n",
    "plt.savefig(f'figs/patch_stops.png', bbox_inches='tight', dpi=300)\n"
   ]
  },
  {
   "cell_type": "code",
   "execution_count": null,
   "id": "e7415657-a11d-482a-8388-56bd61827d88",
   "metadata": {},
   "outputs": [],
   "source": [
    "# Plot: Reward Rate over Time\n",
    "plt.figure(figsize=(6, 4))\n",
    "for sim_num in range(num_simulations):\n",
    "    for strategy in strategy_struct.keys():\n",
    "        # Read data for this simulation and strategy\n",
    "        data = read_h5_data(h5_file_path, sim_num, strategy)\n",
    "        \n",
    "        # Calculate reward rate\n",
    "        cumulative_reward = data['reward'].cumsum()\n",
    "        reward_rate = cumulative_reward / data['time']\n",
    "        \n",
    "        # Plot reward rate over time\n",
    "        plt.plot(data['time'], reward_rate, label=strategy.replace('_', ' ').title() if sim_num == 0 else \"\", \n",
    "                 alpha=0.3, color=color_set[strategy])\n",
    "    if sim_num == 0:\n",
    "        plt.legend()\n",
    "\n",
    "plt.xlabel('Time')\n",
    "plt.ylabel('Reward Rate')\n",
    "plt.title('Reward Rate over Time for Different Strategies')\n",
    "\n",
    "plt.grid(True)\n",
    "plt.tight_layout()\n",
    "\n",
    "# Save the plot\n",
    "plt.savefig('figs/reward_rate_all.png', bbox_inches='tight', dpi=300)"
   ]
  },
  {
   "cell_type": "code",
   "execution_count": null,
   "id": "96c50c04-f52f-4d1e-a408-2ecf4af80822",
   "metadata": {},
   "outputs": [],
   "source": [
    "class SessionData:\n",
    "    def __init__(self, simulated_data):\n",
    "        self.df = simulated_data\n",
    "        self.variables = ['time_in_patch', 'prob_reward', 'cumulative_patch_reward', 'failures_in_patch', 'consecutive_failures']\n",
    "    \n",
    "    def process_last_timesteps(self):\n",
    "        # Group by patch visit and get the last row of each visit\n",
    "        grouped = self.df[self.df['patch_id'] != -1].groupby((self.df['patch_id'] != self.df['patch_id'].shift()).cumsum())\n",
    "        last_timesteps = grouped.last().reset_index(drop=True)\n",
    "        return last_timesteps\n",
    "    \n",
    "    def plot_variables_by_patch(self):\n",
    "        last_timesteps = self.process_last_timesteps()\n",
    "        \n",
    "        # Create a color map for patches\n",
    "        unique_patches = last_timesteps['patch_id'].unique()\n",
    "        color_map = plt.get_cmap('tab20')\n",
    "        color_dict = {patch: color_map(i/len(unique_patches)) for i, patch in enumerate(unique_patches)}\n",
    "        \n",
    "        fig, axes = plt.subplots(1, len(self.variables), figsize=(12, 3), sharex=True)\n",
    "        fig.suptitle('Variables at Patch Exit, Colored by Patch', fontsize=16)\n",
    "        \n",
    "        for i, var in enumerate(self.variables):\n",
    "            ax = axes[i]\n",
    "            for patch in unique_patches:\n",
    "                patch_data = last_timesteps[last_timesteps['patch_id'] == patch]\n",
    "                ax.scatter(patch_data.index, patch_data[var], \n",
    "                           c=[color_dict[patch]], label=f'Patch {patch}', s=10)\n",
    "            \n",
    "            ax.set_ylabel(var.replace('_', ' ').title())\n",
    "            ax.grid(True, linestyle='--', alpha=0.3)\n",
    "            ax.legend()\n",
    "        \n",
    "        axes[-1].set_xlabel('Patch Visit Number')\n",
    "        \n",
    "        plt.tight_layout()\n",
    "        plt.show()\n",
    "\n",
    "    def plot_overall_reward_rate(self):\n",
    "        # Calculate cumulative sum of rewards\n",
    "        cumulative_rewards = self.df['reward'].cumsum()\n",
    "        \n",
    "        # Use the 'time' column for total time\n",
    "        total_time = self.df['time']\n",
    "        \n",
    "        # Calculate reward rate\n",
    "        reward_rate = cumulative_rewards / total_time\n",
    "        \n",
    "        plt.figure(figsize=(3, 2))\n",
    "        plt.plot(total_time, reward_rate)\n",
    "        plt.xlabel('Time')\n",
    "        plt.ylabel('Overall Reward Rate')\n",
    "        # plt.title('Overall Reward Rate Throughout the Session')\n",
    "        plt.grid(True, linestyle='--', alpha=0.7)\n",
    "        \n",
    "        plt.tight_layout()\n",
    "        plt.show()"
   ]
  },
  {
   "cell_type": "code",
   "execution_count": null,
   "id": "ac23734d-9fb4-4eb4-8d26-7e7eeaa99025",
   "metadata": {},
   "outputs": [],
   "source": [
    "# Run the simulation for each strategy\n",
    "results = {}\n",
    "for strategy_name, strategy_info in strategy_struct.items():\n",
    "    simulated_data, _ = forager.run_simulation(strategy_info['strategy'], patch_list, **strategy_info['params'])\n",
    "    results[strategy_name] = data\n",
    "\n",
    "    print(strategy_name)\n",
    "    session = SessionData(simulated_data)\n",
    "    session.plot_variables_by_patch()\n",
    "    session.plot_overall_reward_rate()"
   ]
  },
  {
   "cell_type": "code",
   "execution_count": null,
   "id": "610ab4a3-4827-4180-a3fb-58bf41713237",
   "metadata": {},
   "outputs": [],
   "source": []
  }
 ],
 "metadata": {
  "kernelspec": {
   "display_name": "Python 3 (ipykernel)",
   "language": "python",
   "name": "python3"
  },
  "language_info": {
   "codemirror_mode": {
    "name": "ipython",
    "version": 3
   },
   "file_extension": ".py",
   "mimetype": "text/x-python",
   "name": "python",
   "nbconvert_exporter": "python",
   "pygments_lexer": "ipython3",
   "version": "3.11.9"
  }
 },
 "nbformat": 4,
 "nbformat_minor": 5
}
