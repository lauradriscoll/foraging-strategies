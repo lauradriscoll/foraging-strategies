{
 "cells": [
  {
   "cell_type": "code",
   "execution_count": null,
   "id": "4974f10e-3408-4f91-81b4-259f9e2fb4b8",
   "metadata": {},
   "outputs": [],
   "source": [
    "import numpy as np\n",
    "import scipy\n",
    "import random\n",
    "import matplotlib.pyplot as plt\n",
    "import matplotlib as mpl\n",
    "from mpl_toolkits.mplot3d import Axes3D\n",
    "\n",
    "from tools import depletion_func, calc_total_reward_rate, moving_window_avg\n",
    "\n",
    "# Libraries for processing behavioral data\n",
    "import pandas as pd"
   ]
  },
  {
   "cell_type": "code",
   "execution_count": null,
   "id": "0fa4f200",
   "metadata": {},
   "outputs": [],
   "source": [
    "# Import data from an animal (this is heavily parsed data already to keep things simple in this notebook). \n",
    "data_behavior = pd.read_csv('../data/data_behavior_715865_20240516.csv', index_col=0)\n",
    "\n",
    "# Transform the odor label to a number\n",
    "dict_odor = {'Ethyl Butyrate': 0, 'Alpha-pinene': 1, 'Amyl Acetate': 2}\n",
    "data_behavior['patch_type'] = np.nan\n",
    "data_behavior['patch_type'] = data_behavior.odor_label.map(dict_odor) \n",
    "\n",
    "#Filter patch 3\n",
    "data_behavior = data_behavior.loc[data_behavior['patch_type']!=2]"
   ]
  },
  {
   "cell_type": "code",
   "execution_count": null,
   "id": "d7d3fa55",
   "metadata": {},
   "outputs": [],
   "source": [
    "summary_df = data_behavior.groupby(['active_patch', 'patch_type']).agg({'reward_delivered':'sum','visit_number':'count','reward_probability':'min'}).reset_index()\n",
    "summary_df = summary_df.loc[summary_df['visit_number']!=1]\n",
    "summary_df"
   ]
  },
  {
   "cell_type": "code",
   "execution_count": null,
   "id": "2987c0fa",
   "metadata": {},
   "outputs": [],
   "source": [
    "best_time_behavior = (summary_df.groupby('patch_type').reward_delivered.mean().iloc[0].astype(int), \n",
    "                        summary_df.groupby('patch_type').reward_delivered.mean().iloc[1].astype(int))\n",
    "best_time_behavior"
   ]
  },
  {
   "cell_type": "code",
   "execution_count": null,
   "id": "1856094e",
   "metadata": {},
   "outputs": [],
   "source": [
    "summary_df.reset_index(inplace=True)\n",
    "summary_df.rename(columns={'index':'patch_number'}, inplace=True)"
   ]
  },
  {
   "cell_type": "code",
   "execution_count": null,
   "id": "18ccd15c-22ec-4916-a88a-c954c8e62081",
   "metadata": {},
   "outputs": [],
   "source": [
    "# Example usage\n",
    "type_patches = 2\n",
    "travel_time = 0.5\n",
    "site_stops = [8,2]\n",
    "reward_value = [5,5]\n",
    "num_patches = 400\n",
    "\n",
    "#Three alternative ways to generate a list of patches\n",
    "patch_list = range(type_patches) #equal distribution of patches\n",
    "patch_list = [random.randint(0, 1) for _ in range(num_patches)] #randomly generated list of patched\n",
    "patch_list = summary_df.patch_type.values # import data from session {To Be Implemented..}\n",
    "\n",
    "# Initial probabilities of reward in each patch\n",
    "a = [.9, .6]\n",
    "b = [2.76, 2.76]\n",
    "c = [.1278, .1278]\n",
    "d = [0, 0]\n",
    "\n",
    "total_reward_rate = calc_total_reward_rate(patch_list, travel_time, site_stops, reward_value, a, b, c, d)\n",
    "print(f\"Total reward rate: {total_reward_rate}\")"
   ]
  },
  {
   "cell_type": "code",
   "execution_count": null,
   "id": "a0838d4d-7b3e-44ce-a48a-963656245816",
   "metadata": {},
   "outputs": [],
   "source": [
    "# Initial probabilities of reward in each patch\n",
    "grid = np.zeros((20,20))\n",
    "for x in range(20):\n",
    "    for y in range (20):\n",
    "        total_reward_rate = calc_total_reward_rate(range(type_patches), travel_time, [x,y,0], reward_value, a, b, c, d)\n",
    "        grid[x,y] = total_reward_rate\n",
    "        \n",
    "# Find the indices of the maximum value(s) in the grid\n",
    "best_time = np.unravel_index(grid.argmax(), grid.shape)"
   ]
  },
  {
   "cell_type": "code",
   "execution_count": null,
   "id": "249f8d6d-3259-4a36-907f-e43d9fbfbcd6",
   "metadata": {},
   "outputs": [],
   "source": [
    "max_time = 20\n",
    "\n",
    "# Create a range of time steps\n",
    "time_steps = np.arange(max_time)\n",
    "\n",
    "# Plot the depletion rate over time\n",
    "plt.figure(figsize=(3, 3))\n",
    "\n",
    "for patch_id in range(type_patches): #could change this to a list of patches in order\n",
    "    \n",
    "    # Compute the depletion rate for each time step\n",
    "    p_R = [depletion_func(a[patch_id],b[patch_id],c[patch_id],d[patch_id],t) for t in time_steps]\n",
    "\n",
    "    plt.plot(time_steps+1, p_R,label = str(p_R[best_time[patch_id]-1]))\n",
    "    plt.plot(best_time[patch_id], p_R[best_time[patch_id]-1],'ok')\n",
    "    plt.plot(best_time_behavior[patch_id], p_R[best_time_behavior[patch_id]-1],'+r')\n",
    "\n",
    "plt.xlabel('Time Step')\n",
    "plt.ylabel('P(R)')\n",
    "plt.legend()\n",
    "plt.show()"
   ]
  },
  {
   "cell_type": "code",
   "execution_count": null,
   "id": "4ce8615b-0b9b-4816-b700-6c5cd5716455",
   "metadata": {},
   "outputs": [],
   "source": [
    "window_size_max = 10\n",
    "\n",
    "fig = plt.figure(figsize=(20,5),tight_layout=True,facecolor='white')\n",
    "plt.plot(patch_list,'sk',markersize = 10)\n",
    "cmap = mpl.colormaps['plasma'].resampled(window_size_max)\n",
    "\n",
    "for window_size in range(1,window_size_max):\n",
    "\n",
    "    # Calculate moving window averages with different window sizes\n",
    "    window_ave = moving_window_avg(patch_list, window_size)\n",
    "\n",
    "    plt.plot(window_ave,'o',alpha = .5, color = cmap(window_size/window_size_max), label = 'window size = '+str(window_size))\n",
    "\n",
    "plt.legend()\n",
    "plt.show()"
   ]
  },
  {
   "cell_type": "code",
   "execution_count": null,
   "id": "168baab9-c12a-44bc-9907-809d2c7a78f9",
   "metadata": {},
   "outputs": [],
   "source": [
    "##Gonna write a grid search for combinations of patch distributions, but have to rewrite if there are more than two patches."
   ]
  },
  {
   "cell_type": "code",
   "execution_count": null,
   "id": "ce92f2dc",
   "metadata": {},
   "outputs": [],
   "source": [
    "summary_df['window_ave'] = window_ave[1:]"
   ]
  },
  {
   "cell_type": "code",
   "execution_count": null,
   "id": "6836f037-df78-43cb-876d-64e1a6ca9c1e",
   "metadata": {},
   "outputs": [],
   "source": [
    "# Initial probabilities of reward in each patch\n",
    "max_stops = 20\n",
    "grid = np.zeros((window_size_max+1,max_stops,max_stops))\n",
    "\n",
    "for patch_ratio in range(window_size_max+1):\n",
    "    \n",
    "    patch_list = np.concatenate((np.ones(patch_ratio), np.zeros(window_size_max - patch_ratio))).astype(int).tolist()\n",
    "    print(patch_list)\n",
    "    for x in range(max_stops):\n",
    "        for y in range (max_stops):\n",
    "            total_reward_rate = calc_total_reward_rate(patch_list, travel_time, [x,y,0], reward_value, a, b, c, d)\n",
    "            grid[patch_ratio,x,y] = total_reward_rate"
   ]
  },
  {
   "cell_type": "code",
   "execution_count": null,
   "id": "2cee495f-37d1-45e4-9c70-51fc92a5e58e",
   "metadata": {},
   "outputs": [],
   "source": [
    "# Initialize lists to store the results\n",
    "max_total_reward_rates = []\n",
    "best_x_indices = []\n",
    "best_y_indices = []\n",
    "\n",
    "# Loop over all patch_ratio values\n",
    "for patch_ratio in range(window_size_max+1):\n",
    "    # Find the maximum value and its indices for the current patch_ratio\n",
    "    max_value = np.max(grid[patch_ratio])\n",
    "    max_index = np.unravel_index(np.argmax(grid[patch_ratio]), (max_stops, max_stops))\n",
    "    \n",
    "    # Store the results\n",
    "    max_total_reward_rates.append(max_value)\n",
    "    best_x_indices.append(max_index[0])\n",
    "    best_y_indices.append(max_index[1])\n",
    "\n",
    "print(\"Maximum total reward rates:\", max_total_reward_rates)\n",
    "print(\"Best x indices:\", best_x_indices)\n",
    "print(\"Best y indices:\", best_y_indices)"
   ]
  },
  {
   "cell_type": "code",
   "execution_count": null,
   "id": "61e9d518-510b-45cb-8fc2-4fc69e15824a",
   "metadata": {},
   "outputs": [],
   "source": [
    "cmap = mpl.colormaps['plasma'].resampled(window_size_max)\n",
    "\n",
    "fig = plt.figure(figsize=(3,3),tight_layout=True,facecolor='white')\n",
    "ax = plt.subplot(111)\n",
    "for patch_ratio in range(window_size_max+1):\n",
    "    plt.plot(best_x_indices[patch_ratio],best_y_indices[patch_ratio],'o',c = cmap(patch_ratio/window_size_max), label = f'patch_ratio = {round(patch_ratio/window_size_max, 2)}')\n",
    "    plt.xlabel('optimal stops in patch 0')\n",
    "    plt.ylabel('optimal stops in patch 1')\n",
    "\n",
    "# Create and configure the legend\n",
    "ax.legend(loc='upper center', bbox_to_anchor=(1.7, 1.02),)"
   ]
  },
  {
   "cell_type": "code",
   "execution_count": null,
   "id": "7ab5b34a-0134-440a-bebc-404b429c1aa4",
   "metadata": {},
   "outputs": [],
   "source": [
    "n_patch_ratios, n_x, n_y = grid.shape\n",
    "\n",
    "fig, axs = plt.subplots(nrows=3, ncols=5, figsize=(15, 9))\n",
    "axs = axs.flatten()\n",
    "\n",
    "for i, patch_ratio in enumerate(range(0, n_patch_ratios-1, n_patch_ratios//15)):\n",
    "    ax = axs[i]\n",
    "    ax.imshow(grid[patch_ratio].T, cmap='viridis')\n",
    "    ax.set_title(f'patch_ratio = {round(patch_ratio/window_size_max, 2)}')\n",
    "    ax.set_xlabel('patch 0 stops')\n",
    "    ax.set_ylabel('patch 1 stops')\n",
    "\n",
    "plt.tight_layout()\n",
    "plt.show()"
   ]
  },
  {
   "cell_type": "code",
   "execution_count": null,
   "id": "31e9edf6-ca4f-4503-955c-b95ccb517a29",
   "metadata": {},
   "outputs": [],
   "source": []
  },
  {
   "cell_type": "code",
   "execution_count": null,
   "id": "1325d09d-0d1e-442a-8ed1-6c24c9befd82",
   "metadata": {},
   "outputs": [],
   "source": []
  }
 ],
 "metadata": {
  "kernelspec": {
   "display_name": "Python 3 (ipykernel)",
   "language": "python",
   "name": "python3"
  },
  "language_info": {
   "codemirror_mode": {
    "name": "ipython",
    "version": 3
   },
   "file_extension": ".py",
   "mimetype": "text/x-python",
   "name": "python",
   "nbconvert_exporter": "python",
   "pygments_lexer": "ipython3",
   "version": "3.11.9"
  }
 },
 "nbformat": 4,
 "nbformat_minor": 5
}
